{
 "cells": [
  {
   "cell_type": "code",
   "execution_count": 1,
   "id": "601d5ecc-da18-42d5-aece-ffd9c07b6a27",
   "metadata": {},
   "outputs": [],
   "source": [
    "import numpy as np"
   ]
  },
  {
   "cell_type": "code",
   "execution_count": 3,
   "id": "2febc8ee-338b-4c24-a9d8-7650fd7c02ad",
   "metadata": {},
   "outputs": [
    {
     "data": {
      "text/plain": [
       "0.9937293580636095"
      ]
     },
     "execution_count": 3,
     "metadata": {},
     "output_type": "execute_result"
    }
   ],
   "source": [
    "np.random.beta(10,1)"
   ]
  },
  {
   "cell_type": "code",
   "execution_count": null,
   "id": "da22ea53-bfd1-465e-bf6d-6b4ca6d2cc84",
   "metadata": {},
   "outputs": [],
   "source": []
  }
 ],
 "metadata": {
  "kernelspec": {
   "display_name": "chem",
   "language": "python",
   "name": "chem"
  },
  "language_info": {
   "codemirror_mode": {
    "name": "ipython",
    "version": 3
   },
   "file_extension": ".py",
   "mimetype": "text/x-python",
   "name": "python",
   "nbconvert_exporter": "python",
   "pygments_lexer": "ipython3",
   "version": "3.8.18"
  }
 },
 "nbformat": 4,
 "nbformat_minor": 5
}
