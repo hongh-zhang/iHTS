{
 "cells": [
  {
   "cell_type": "code",
   "execution_count": 1,
   "id": "7564811c-a5c3-4290-80c9-c27fcba59442",
   "metadata": {},
   "outputs": [],
   "source": [
    "%load_ext autoreload\n",
    "%autoreload 2\n",
    "\n",
    "import pickle\n",
    "import numpy as np\n",
    "import pandas as pd\n",
    "import matplotlib.pyplot as plt\n",
    "\n",
    "import rdkit\n",
    "from rdkit.Chem import AllChem as AllChem\n",
    "from rdkit.SimDivFilters.rdSimDivPickers import MaxMinPicker\n",
    "\n",
    "from utils import *"
   ]
  },
  {
   "cell_type": "code",
   "execution_count": 2,
   "id": "8d761236-440d-43b3-a45c-50a4d29821c4",
   "metadata": {},
   "outputs": [],
   "source": [
    "with open(\"AID_628/data.pkl\",\"rb\") as file:\n",
    "    data = pickle.load(file)\n",
    "    \n",
    "smiles_ls = data.get(\"smiles_ls\")\n",
    "mol_ls = data.get(\"mol_ls\")\n",
    "fp_ls = data.get(\"fp_ls\")\n",
    "activity_ls = data.get(\"activity_ls\")\n",
    "ds_ls = data.get(\"ds_ls\")\n",
    "scaffold_dict = data.get(\"scaffold_dict\")\n",
    "\n",
    "del data\n",
    "\n",
    "y = np.array(activity_ls)\n",
    "\n",
    "SEED = 0\n",
    "P_INIT = 0.15\n",
    "P_ITER = 0.05\n",
    "N_ITER = 4\n",
    "N_TOTAL = len(y)\n",
    "\n",
    "\n",
    "\n",
    "def initialize_scfs(scaffold_dict: dict) -> (list, list):\n",
    "    \n",
    "    # initialize scaffolds\n",
    "    scaffold_ls = []\n",
    "    idx_to_scf = []\n",
    "    for scf_smiles in scaffold_dict:\n",
    "        scaffold_ls.append(Scaffold(scf_smiles, scaffold_dict[scf_smiles], Beta_dist()))\n",
    "        scf_obj = scaffold_ls[-1]\n",
    "        idx_to_scf += [(scf_obj, comp) for comp in scf_obj.unsampled]\n",
    "\n",
    "    # sort and prune list\n",
    "    # resulting list will map compound index to corresponding scaffold object\n",
    "    idx_to_scf = sorted(idx_to_scf, key=lambda x: x[1])\n",
    "    idx_to_scf = list(zip(*idx_to_scf))[0]\n",
    "    \n",
    "    return scaffold_ls, idx_to_scf\n",
    "\n",
    "scaffold_ls, idx_to_scf = initialize_scfs(scaffold_dict)"
   ]
  },
  {
   "cell_type": "code",
   "execution_count": 3,
   "id": "e75c90e3-0a6c-44e4-9b1b-5d666f4f7b53",
   "metadata": {},
   "outputs": [],
   "source": [
    "for idx in range(len(y)):\n",
    "    scf = idx_to_scf[idx]\n",
    "    scf.observe(idx, y[idx])\n",
    "    \n",
    "true_sorted_scf = sorted(scaffold_ls, key=lambda x: x.dist.ppf(.10))[::-1]"
   ]
  },
  {
   "cell_type": "code",
   "execution_count": 7,
   "id": "cd32e66f-5113-4ebd-a6d5-17e5e98ff371",
   "metadata": {},
   "outputs": [
    {
     "data": {
      "text/plain": [
       "[O=c1[nH]c(=O)c2c(nc(SCCN3CCCCC3)n2Cc2ccccc2)[nH]1 | 6 / 6,\n",
       " O=S(=O)(Nc1ccc2[nH]c(CCN3CCCCC3)nc2c1)c1ccccc1 | 5 / 5,\n",
       " c1ccc(CC2CCCCC2)cc1 | 4 / 4,\n",
       " c1ccc(CNc2ncc(-c3ccc4c(c3)OCO4)[nH]2)cc1 | 4 / 4,\n",
       " O=C(Nc1ccccc1)c1cnc(N2CCNCC2)c2ccccc12 | 4 / 4,\n",
       " c1ccc2nc(NC3=NCN(CCCN4CCOCC4)CN3)ncc2c1 | 3 / 3,\n",
       " O=C(CCN1CCN(C2CCCCC2)CC1)Nc1c[nH]c2ccccc12 | 3 / 3,\n",
       " O=c1c2c3c(sc2ncn1C1CCCCC1)CNCC3 | 3 / 3,\n",
       " O=C(Cc1ccccc1)OC1CC2CCC(C1)[NH2+]2 | 3 / 3,\n",
       " O=C(OCCN1CCCCC1)c1cc2ccccc2o1 | 3 / 3,\n",
       " N=c1[nH]c2nc3ccccn3c(=O)c2cc1C(=O)NCCc1ccccc1 | 3 / 3,\n",
       " O=S(=O)(c1ccccc1)N1CCN(C2CCN(Cc3ccccc3)CC2)CC1 | 3 / 3,\n",
       " O=c1[nH]c2ccc(S(=O)(=O)N3CCc4ccccc43)cc2o1 | 3 / 3,\n",
       " c1ccc2nc(NC3=NCN(Cc4ccc5c(c4)OCO5)CN3)ncc2c1 | 3 / 3,\n",
       " O=C(CCN1CCOCC1)N1c2ccccc2Sc2ccccc21 | 3 / 3,\n",
       " O=C1C=C(Nc2c[nH]n(-c3ccccc3)c2=O)C(=O)N1c1ccccc1 | 3 / 3,\n",
       " c1ccc2c(c1)Nc1ccccc1S2 | 7 / 9,\n",
       " N=c1[nH]c2nc3ccccn3c(=O)c2cc1C(=O)NCc1ccc2c(c1)OCO2 | 4 / 5,\n",
       " O=C(Nc1ccccc1)Nc1ccc2[nH]c(CCN3CCCCC3)nc2c1 | 2 / 2,\n",
       " O=S(=O)(c1cccc(-c2cn3ccccc3n2)c1)N1CCCCC1 | 2 / 2]"
      ]
     },
     "execution_count": 7,
     "metadata": {},
     "output_type": "execute_result"
    }
   ],
   "source": [
    "[s for s in true_sorted_scf[:20]]# if len(s.sampled.keys())>10][:20]"
   ]
  },
  {
   "cell_type": "code",
   "execution_count": null,
   "id": "09a31b8b-85b9-4e00-9c7f-dc23a6dffe2a",
   "metadata": {},
   "outputs": [],
   "source": []
  },
  {
   "cell_type": "code",
   "execution_count": 6,
   "id": "7cf0acc7-0157-418f-addf-43a16819db73",
   "metadata": {},
   "outputs": [],
   "source": [
    "def random_pick(fp_ls: List[rdkit.DataStructs.cDataStructs.ExplicitBitVect], \n",
    "                n: int, \n",
    "                seed: int = 42) -> List[int]:\n",
    "    \"\"\"Random diverse compound picking based on Rdkit MaxMinPicker\"\"\"\n",
    "    picker = MaxMinPicker()\n",
    "    return list(picker.LazyBitVectorPick(fp_ls, len(fp_ls), n, seed=seed))\n",
    "\n",
    "# random initial pick\n",
    "init_idx = random_pick(fp_ls, int(P_INIT*len(fp_ls)))"
   ]
  },
  {
   "cell_type": "code",
   "execution_count": 14,
   "id": "b49b618b-69e5-42a9-b8a3-16ecaaa91cff",
   "metadata": {},
   "outputs": [],
   "source": [
    "def update_scaffolds(idx_ls, scf_ls, idx_to_scf, activity_ls):\n",
    "    for idx in idx_ls:\n",
    "        scf = idx_to_scf[idx]\n",
    "        scf.observe(idx, activity_ls[idx])\n",
    "        \n",
    "sampled = [] + init_idx\n",
    "\n",
    "update_scaffolds(init_idx, scaffold_ls, idx_to_scf, y)"
   ]
  },
  {
   "cell_type": "code",
   "execution_count": 15,
   "id": "e39db671-dd77-4794-8ccb-4a4bc95e59e8",
   "metadata": {},
   "outputs": [
    {
     "name": "stdout",
     "output_type": "stream",
     "text": [
      "Adding 3183 new samples each iteration\n",
      "Iteration 0\n",
      "Hit rate: 0.0339\n",
      "Iteration 1\n",
      "Hit rate: 0.0280\n",
      "Iteration 2\n",
      "Hit rate: 0.0314\n",
      "Iteration 3\n",
      "Hit rate: 0.0280\n"
     ]
    }
   ],
   "source": [
    "n_next = int(P_ITER * N_TOTAL)\n",
    "print(f\"Adding {n_next} new samples each iteration\")\n",
    "\n",
    "for _ in range(N_ITER):\n",
    "    print(f\"Iteration {_}\")\n",
    "    \n",
    "    # sample distributions\n",
    "    probs = []\n",
    "    for scf in scaffold_ls:\n",
    "        probs += scf.sample()\n",
    "    probs = sorted(probs[::-1])\n",
    "\n",
    "    sample_idxs = list(list(zip(*probs[:n_next]))[1])\n",
    "    sampled += sample_idxs\n",
    "\n",
    "    update_scaffolds(sample_idxs, scaffold_ls, idx_to_scf, y)\n",
    "    \n",
    "    print(f\"Hit rate: {sum(y[sample_idxs])/len(sample_idxs):.4f}\")"
   ]
  },
  {
   "cell_type": "code",
   "execution_count": 16,
   "id": "cad7681b-ccd3-483f-abbe-dc5e4307df17",
   "metadata": {},
   "outputs": [
    {
     "name": "stdout",
     "output_type": "stream",
     "text": [
      "Sampled 0.3500 of the library\n",
      "Hit rate: 0.0335, or 0.3427 of all hits\n"
     ]
    }
   ],
   "source": [
    "print(f\"Sampled {len(sampled)/len(y):.4f} of the library\")\n",
    "print(f\"Hit rate: {sum(y[sampled])/len(sampled):.4f}, or {sum(y[sampled])/sum(y):.4f} of all hits\")"
   ]
  },
  {
   "cell_type": "code",
   "execution_count": 17,
   "id": "7e5c23e4-cde6-4c00-a4f9-270829a161c9",
   "metadata": {},
   "outputs": [],
   "source": [
    "sorted_scf = sorted(scaffold_ls, key=lambda x: x.dist.ppf25())[::-1]"
   ]
  },
  {
   "cell_type": "code",
   "execution_count": 9,
   "id": "f511b197-a261-4d6d-8c97-26cf0c1e8bcc",
   "metadata": {},
   "outputs": [
    {
     "data": {
      "text/plain": [
       "31353"
      ]
     },
     "execution_count": 9,
     "metadata": {},
     "output_type": "execute_result"
    }
   ],
   "source": [
    "len(scaffold_ls)"
   ]
  },
  {
   "cell_type": "code",
   "execution_count": 10,
   "id": "9621881e-3a1f-4900-9c16-9b751c99a82d",
   "metadata": {},
   "outputs": [
    {
     "data": {
      "text/plain": [
       "63662"
      ]
     },
     "execution_count": 10,
     "metadata": {},
     "output_type": "execute_result"
    }
   ],
   "source": [
    "len(y)"
   ]
  },
  {
   "cell_type": "code",
   "execution_count": 19,
   "id": "97fe8a9f-1953-4e62-adf8-caf0fd0ff70a",
   "metadata": {},
   "outputs": [
    {
     "data": {
      "text/plain": [
       "[c1ccc2c(c1)oc1c(Nc3ccncc3)ncnc12 | 2 / 2,\n",
       " c1ncc2c3c(sc2n1)CNCC3 | 2 / 2,\n",
       " N=c1[nH]c2nc3ccccn3c(=O)c2cc1C(=O)NCc1ccc2c(c1)OCO2 | 2 / 2,\n",
       " c1ccc(CNc2ncc(-c3ccccc3)[nH]2)cc1 | 2 / 2,\n",
       " C1=Nc2sc3c(c2C2=NCCN12)CCCC3 | 1 / 1,\n",
       " c1ccc(CNc2ccc3c(c2)ncn3C2CCCCC2)nc1 | 1 / 1,\n",
       " c1ccc(N2CCN(CCc3nc4ccccc4[nH]3)CC2)cc1 | 1 / 1,\n",
       " O=c1[nH]cnc2oc3ccccc3c(=O)c12 | 1 / 1,\n",
       " c1ccc(CNCC2CCCN2)cc1 | 1 / 1,\n",
       " O=S(=O)(Nc1ccc2[nH]c(CCN3CCCCC3)nc2c1)c1ccccc1 | 1 / 1,\n",
       " O=c1cc(CN2CCNCC2)c2ccccc2o1 | 1 / 1,\n",
       " c1cc(-c2nnc3sc(C4CCCCC4)nn23)n[nH]1 | 1 / 1,\n",
       " O=c1[nH]c(=O)c2c(nc(N3CCN(c4ccccc4)CC3)n2CCCSc2nncs2)[nH]1 | 1 / 1,\n",
       " O=C1C2ON(c3ccccc3)C(c3ccccc3)C2C(=O)N1Cc1ccccc1 | 1 / 1,\n",
       " O=S(=O)(c1cccc(-c2cn3ccccc3n2)c1)N1CCCCC1 | 1 / 1,\n",
       " O=c1[nH]c(=O)c2c(nc(N3CCN(c4ccccc4)CC3)n2CCSc2nccs2)[nH]1 | 1 / 1,\n",
       " O=C(NCCCn1ccnc1)C1c2ccccc2Oc2ccccc21 | 1 / 1,\n",
       " c1coc(CNc2ncnc3sc4c(c23)CCNC4)c1 | 1 / 1,\n",
       " c1ccc(-c2nc(NC3=NCN(CCN4CCOCC4)CN3)nc3ccccc23)cc1 | 1 / 1,\n",
       " O=c1[nH]c(-c2cccs2)nc2sc3c(c12)CCOC3 | 1 / 1,\n",
       " C(=Cc1ccccc1)CSc1nnco1 | 1 / 1,\n",
       " O=C(Nc1ccc(N2CCNCC2)cc1)c1ccc2ccccc2c1 | 1 / 1,\n",
       " O=C(c1cc2ccccc2cc1OCCCN1C(=O)CNC1=O)N1CCCCC1 | 1 / 1,\n",
       " O=C1C=C(C(=O)c2cncs2)C(c2ccccc2)N1 | 1 / 1,\n",
       " O=C(COc1ccccc1)OC1CN2CCC1CC2 | 1 / 1,\n",
       " O=C1NC(c2ccccc2)Nc2sc3c(c21)CCCC3 | 1 / 1,\n",
       " O=C1c2ccccc2CN1CCNS(=O)(=O)c1ccccc1 | 1 / 1,\n",
       " c1cncc(C2NCCc3[nH]c4c(c32)C(c2cccnc2)NCC4)c1 | 1 / 1,\n",
       " c1ccc(-c2nc3c4c5c(sc4ncn3n2)CNCC5)cc1 | 1 / 1,\n",
       " c1cnn(-c2ccc(CN3CCCCC3)cc2)c1 | 1 / 1,\n",
       " O=C(OC1CN2CCC1CC2)C12CC3CC(CC(C3)C1)C2 | 1 / 1,\n",
       " O=C(CN1CCSCC1)N1CCc2[nH]c3ccccc3c2C1 | 1 / 1,\n",
       " O=C(NC1CCCCC1)n1c(=O)oc2ccccc21 | 1 / 1,\n",
       " O=C1C2CCN(CC2)C1Cc1ccc2ccccc2c1 | 1 / 1,\n",
       " O=C(C=CNCc1cccnc1)NCc1ccccc1 | 1 / 1,\n",
       " c1ccc(CC(c2ccccc2)C2CN3CCC2CC3)cc1 | 1 / 1,\n",
       " O=C(CCN1CCc2ccccc2CC1)c1ccc2c(c1)OCCO2 | 1 / 1,\n",
       " O=c1ncnc2n1CCS2 | 1 / 1,\n",
       " N=C1C2CCN(CC2)C1Cc1ccccc1 | 1 / 1,\n",
       " c1ccc(CN2CCN(c3ncnc4c3[nH]c3ccccc34)CC2)cc1 | 1 / 1,\n",
       " O=c1c(Nc2cccc3nc4ccccc4n23)c[nH]n1-c1ccccc1 | 1 / 1,\n",
       " c1ccc(CNc2ccnc(NCc3cccnc3)c2)cc1 | 1 / 1,\n",
       " c1c(N2CCNCC2)ncc2c1CCSC2 | 1 / 1,\n",
       " O=C(CNC1CCCCC1)Nc1c[nH]c2ccccc12 | 1 / 1,\n",
       " C1=C2Sc3ncncc3N=C2CCC1 | 1 / 1,\n",
       " O=C(Nc1ccccc1)NC1CCCC1Cc1ccco1 | 1 / 1,\n",
       " O=C(CN1CCOCC1)OCCCC1CCCCC1 | 1 / 1,\n",
       " c1cn(Cc2ccc(Cn3ccnc3)cc2)cn1 | 1 / 1,\n",
       " O=C(c1cccs1)c1no[nH+]c1C(=O)c1cccs1 | 1 / 1,\n",
       " O=C1c2ccccc2C(=O)N1CC1=CCS(=O)(=O)C1 | 1 / 1,\n",
       " O=C1CCOc2ccc3ccccc3c21 | 1 / 1,\n",
       " O=S1(=O)CC=C(CSc2nc3ccccc3[nH]2)C1 | 1 / 1,\n",
       " c1c2c(nc3c1CCCCN3)CCCC2 | 1 / 1,\n",
       " N=C(c1ccccc1)C12CN3CN(CN(C3)C1)C2 | 1 / 1,\n",
       " O=C(C=C1CCCCCN1)c1ccccc1 | 1 / 1,\n",
       " c1cnc(N2CC[N+]3(CCCC3)CC2)nc1 | 1 / 1,\n",
       " C1=Cc2ccccc2Cc2ccccc21 | 1 / 1,\n",
       " c1nc(N2CCCCC2)c2ncnc(N3CCCCC3)c2n1 | 1 / 1,\n",
       " O=C1CC(Cc2cnc[nH]2)CO1 | 1 / 1,\n",
       " C1CCC(C2CCCCC2)CC1 | 1 / 1,\n",
       " c1ccc2c(c1)CCc1cccnc1C2=C1CCNCC1 | 1 / 1,\n",
       " O=C(CC1CCCC(CCc2ccccc2)N1)c1ccccc1 | 1 / 1,\n",
       " c1ccc(C(CCN2CCCCC2)C2CCCCC2)cc1 | 1 / 1,\n",
       " c1ccc2c(c1)N=C(N1CCNCC1)c1ccccc1N2 | 1 / 1,\n",
       " O=C(Cc1ccccc1)OC1CC2CCC(C1)[NH2+]2 | 1 / 1,\n",
       " O=C(OCCCCNCCc1ccccc1)c1ccccc1 | 1 / 1,\n",
       " O=C1Cc2ccccc2C(=C2CCNCC2)c2ccsc21 | 1 / 1,\n",
       " c1ccc(CCN2CCC(Nc3nc4ccccc4n3Cc3ccccc3)CC2)cc1 | 1 / 1,\n",
       " O=C(OCC1=NCCCN1)C(c1ccccc1)C1CCCCC1 | 1 / 1,\n",
       " O=C(OC1C[NH+]2CCC1CC2)C(c1ccccc1)c1ccccc1 | 1 / 1,\n",
       " O=C1Nc2cccnc2N(C(=O)CN2CCNCC2)c2ccccc21 | 1 / 1,\n",
       " C1=Cc2ccccc2C(=C2CCNCC2)c2ccccc21 | 1 / 1,\n",
       " c1ccc(N(CC2=NCCN2)c2ccccc2)cc1 | 1 / 1,\n",
       " O=C(C1CCCO1)N1CCN(c2ncc3ccccc3n2)CC1 | 1 / 1,\n",
       " C=C1c2ccccc2CCc2ccccc21 | 1 / 1,\n",
       " O=c1c(CCN2CCC(=C(c3ccccc3)c3ccccc3)CC2)cnc2sccn12 | 1 / 1,\n",
       " c1ccc2c(c1)Sc1ccccc1N2CCC1CCCCN1 | 1 / 1,\n",
       " O=C1c2ccccc2C(=O)c2cc3c(cc21)CCCC3OC1CCCCO1 | 1 / 1,\n",
       " O=C(c1cccs1)N(Cc1nc2sccc2c(=O)[nH]1)C1CCCC1 | 1 / 1,\n",
       " O=c1ccn(CCCCCN2CCCC2)c(=O)[nH]1 | 1 / 1,\n",
       " C1=CC(c2ccc3c(c2)OCO3)c2c[nH]nc2O1 | 1 / 1,\n",
       " O=C(CN(C(=O)c1ccc(N2CCCC2)nc1)c1ccccc1)NCCc1ccccc1 | 1 / 1,\n",
       " O=S(=O)(c1ccc(-c2nnc(SCc3ccccc3)[nH]2)cc1)N1CCCCC1 | 1 / 1,\n",
       " O=C1C=C(Nc2ccccc2NC(=O)c2cnccn2)CCC1 | 1 / 1,\n",
       " O=C(CCCN1CCC(c2ccccc2)C1)c1ccc2c(c1)OCCO2 | 1 / 1,\n",
       " O=C(Nc1nnc(C2CCCO2)s1)c1ccccc1 | 1 / 1,\n",
       " c1ccc(CC2CCCCC2)cc1 | 1 / 1,\n",
       " O=C1CCCc2oc3ccc(NS(=O)(=O)c4ccccc4)cc3c21 | 1 / 1,\n",
       " N=c1ccc2c(=O)n3ccccc3nc2n1Cc1ccccc1 | 1 / 1,\n",
       " O=C(c1cnn(-c2ccccc2)c1)N1CCN(c2ncnc3c2cnn3-c2ccccc2)CC1 | 1 / 1,\n",
       " O=C(CN1CCC(C(=O)c2ccccc2)CC1)NC1CCCCC1 | 1 / 1,\n",
       " O=C1NC(=O)C(CCc2ccncc2)(C2CCCCC2)C(=O)N1 | 1 / 1,\n",
       " O=C(CN1CCN2CCCC2C1)N1c2ccccc2CCc2ccccc21 | 1 / 1,\n",
       " O=C(OCCCc1nc2ccccc2[nH]1)c1ccccc1 | 1 / 1,\n",
       " c1ccc(CN2CCC(c3ccccc3)CC2)cc1 | 1 / 1,\n",
       " C1CSC(N2CCN(C3=NCCS3)CC2)=N1 | 1 / 1,\n",
       " O=C(CCN1CCC(c2ccccc2)C1)c1cccs1 | 1 / 1,\n",
       " c1ccc(OCc2nnc(SCCN3CCCCC3)n2Cc2ccco2)cc1 | 1 / 1,\n",
       " O=S(=O)(Nc1ccccc1-c1nn[nH]n1)c1ccccc1 | 1 / 1,\n",
       " O=S(=O)(CCn1cccc1)CCn1cccc1 | 1 / 1,\n",
       " O=C(Nc1ccccn1)c1cc2c([nH]c1=O)CCCC2 | 1 / 1,\n",
       " O=C(C=C1Nc2ccccc2S1)c1cccs1 | 1 / 1,\n",
       " c1ccc(C(OCCN2CCNCC2)c2ccccc2)cc1 | 1 / 1,\n",
       " O=C(C=C1NCCc2ccccc21)N1CCCCC1 | 1 / 1,\n",
       " O=C(Nc1ccccc1-c1ccccc1)NC1CCN(CC(=O)N2CCOCC2)CC1 | 1 / 1,\n",
       " O=C(OCCN1CCCCC1)c1cc2ccccc2o1 | 1 / 1,\n",
       " O=C1CSC2(C(=O)Nc3ccccc32)N1c1ccccc1 | 1 / 1,\n",
       " c1nc(NCCN2CCCCC2)c2ccsc2n1 | 1 / 1,\n",
       " O=C(Nc1ccc(C(=O)Nc2ccccc2)s1)c1ccco1 | 1 / 1,\n",
       " C1=CC2=CCNCC2C(CCc2ccccc2)C1 | 1 / 1,\n",
       " c1ccc(CNc2ncc(-c3ccc4c(c3)OCO4)[nH]2)cc1 | 1 / 1,\n",
       " c1ccc2c(c1)ncn2C1CCN(Cc2nnnn2C2CCCCC2)CC1 | 1 / 1,\n",
       " c1ccc(N2CCN(c3cccc4nc5ccccc5n34)CC2)nc1 | 1 / 1,\n",
       " c1coc(Cn2nnnc2CN2CCN(c3nc4ccccc4s3)CC2)c1 | 1 / 1,\n",
       " O=C(CSc1nnco1)Nc1ccccc1 | 1 / 1,\n",
       " O=C(CN1CCCCC1)Nc1ccc(S(=O)(=O)N2CCCCCC2)cc1 | 1 / 1,\n",
       " O=C(CSc1nnc2c(n1)[nH]c1ccccc12)N1CCCCC1 | 1 / 1,\n",
       " O=C(Cc1ccccc1)OCCN1CCCCC1 | 1 / 1,\n",
       " O=C(CCN1CCCCC1)c1coc2ccccc12 | 1 / 1,\n",
       " O=C1c2ccccc2C(=O)N1CCOCCN1C(=O)c2ccccc2C1=O | 1 / 1,\n",
       " O=S(=O)(Nc1nc2ccccc2[nH]1)c1ccccc1 | 1 / 1,\n",
       " c1ccc2cc(-c3nnc[nH]3)ccc2c1 | 1 / 1,\n",
       " O=C(CN(CC1CCCO1)C(=O)CNS(=O)(=O)c1ccccc1)NCc1ccccc1 | 1 / 1,\n",
       " O=C(Cn1ccc2ccccc21)NC1CCCCC1 | 1 / 1,\n",
       " c1ccc2c3c(ccc2c1)COC3 | 1 / 1,\n",
       " N=c1[nH]c(=O)cc(C(=O)NCCc2ccccc2)s1 | 1 / 1,\n",
       " c1ccc(-c2nnc(SCCN3CCCCC3)[nH]2)cc1 | 1 / 1,\n",
       " c1ccc(Nc2nc(NCC3CCCO3)c3ccccc3n2)cc1 | 1 / 1,\n",
       " O=C(NCc1ccccc1)c1ccc(CN2CCCCC2)o1 | 1 / 1,\n",
       " O=C1CSC(c2ccccc2)N1CCN1CCCCC1 | 1 / 1,\n",
       " C1CCC(CNc2c3c(nc4nnnn24)CCCC3)CC1 | 1 / 1,\n",
       " O=c1[nH]c(=O)c2c(nnn2Cc2ccccc2)[nH]1 | 1 / 1,\n",
       " O=c1[nH]c2ccccc2n(OCc2ccccc2)c1=O | 1 / 1,\n",
       " C1=CC(c2ccsc2)C=CN1 | 1 / 1,\n",
       " O=C(Nc1ccc(S(=O)(=O)Nc2cnccn2)cc1)c1ccccc1 | 1 / 1,\n",
       " O=C1CC(c2ccco2)CC=C1C=NCC1CCNCC1 | 1 / 1,\n",
       " O=C(CC(c1ccccc1)N1CCCCC1)N1CCCCC1 | 1 / 1,\n",
       " c1ccc2c(c1)Cc1ccccc1O2 | 1 / 1,\n",
       " O=C1CC(N2CCN(CC=Cc3ccccc3)CC2)C(=O)N1CCc1ccccc1 | 1 / 1,\n",
       " O=S(=O)(CCCOc1ccccc1)c1ccccn1 | 1 / 1,\n",
       " O=c1ccc2cc3c(nc2o1)NCCC3 | 1 / 1,\n",
       " O=c1c(NC2=NC3(CCCCC3)Cc3ccccc32)c[nH]n1-c1ccccc1 | 1 / 1,\n",
       " O=C1C(=C2C=CC=CN2)SC(=S)N1C1CCCCC1 | 1 / 1,\n",
       " C(=Nn1cnnn1)c1ccc(-c2ccccc2)o1 | 1 / 1,\n",
       " N=c1[nH]c2nc3ccccn3c(=O)c2cc1C(=O)NCCc1ccccc1 | 1 / 1,\n",
       " O=S(=O)(c1ccccc1)N1CCN(C2CCN(Cc3ccccc3)CC2)CC1 | 1 / 1,\n",
       " c1nc2ccc(OCCN3CCCCC3)cc2s1 | 1 / 1,\n",
       " O=C(CSc1ncccn1)Oc1ccc2oc(=O)ccc2c1 | 1 / 1,\n",
       " O=c1[nH]c2ccccc2n1CCCSc1nnc2c(n1)[nH]c1ccccc12 | 1 / 1,\n",
       " C(=Nn1cnnc1)c1ccc(OCCOc2ccccc2)cc1 | 1 / 1,\n",
       " C1CCCNCC1 | 1 / 1,\n",
       " O=S(=O)(c1ccc2ccccc2c1)n1cccn1 | 1 / 1,\n",
       " O=C(c1cccs1)C1CN2CCC1CC2 | 1 / 1,\n",
       " c1ccc(-c2ccnn3cnnc23)cc1 | 1 / 1,\n",
       " O=c1c2c(nc3n1CCC3)sc1ccccc12 | 1 / 1,\n",
       " c1ccc(Sc2nc(N3CCCCC3)nc(N3CCCCC3)n2)nc1 | 1 / 1,\n",
       " C1=C(CN2CCCCC2)CCCC1 | 1 / 1,\n",
       " O=c1[nH]c(Nc2ncc3ccccc3n2)nc2ccccc12 | 1 / 1,\n",
       " O=C(COc1ccccc1)Nc1ccc(N2CCCC2)cc1 | 1 / 1,\n",
       " c1ccc2[nH]c(SCCN3CCCC3)nc2c1 | 1 / 1,\n",
       " O=C1CCN(C2CCNCC2)CN1C1CCNCC1 | 1 / 1,\n",
       " O=C(C1c2ccccc2Oc2ccccc21)N1CCCCC1 | 1 / 1,\n",
       " N=C1C2CN(Cc3ccccc3)CC1CN(Cc1ccccc1)C2 | 1 / 1,\n",
       " O=C1c2ccccc2-c2onc3cccc1c23 | 1 / 1,\n",
       " O=C(Nc1ccccc1)c1ccc(CN2CCN(c3ccccc3)CC2)cc1 | 1 / 1,\n",
       " C(=Nn1cnnc1)c1cccc(OCCOc2ccccc2)c1 | 1 / 1,\n",
       " O=C(c1ccccc1)N(CC1CC1)c1ccccc1 | 1 / 1,\n",
       " O=c1c(CN2CCN(Cc3ccccc3)CC2)coc2ccccc12 | 1 / 1,\n",
       " C1=C(c2ccccc2)CCN(Cc2ccccc2)C1 | 1 / 1,\n",
       " O=C(Nc1ccc2c(c1)OCCO2)c1conc1-c1ccccc1 | 1 / 1,\n",
       " O=C(CCCN1CCN(c2ccccc2)CC1)c1ccccc1 | 1 / 1,\n",
       " c1ccc(C2(Cn3cncn3)OCCO2)cc1 | 1 / 1,\n",
       " C1=NC(Nc2ncc3ccccc3n2)=NCC1 | 1 / 1,\n",
       " c1ccc2c(NCCCN3CCOCC3)ccnc2c1 | 1 / 1,\n",
       " O=c1oc2c3c4c(cc2cc1-c1nc2ccccc2[nH]1)CCCN4CCC3 | 1 / 1,\n",
       " O=C1NCCCc2nc(Oc3ccccc3)sc21 | 1 / 1,\n",
       " O=C1CCCc2[nH]c(-c3ccccc3)cc21 | 1 / 1,\n",
       " O=c1[nH]c(=O)c2c(SCc3ccco3)ncnc2[nH]1 | 1 / 1,\n",
       " O=S(=O)(NCCc1cn2ccsc2n1)c1ccc2c(c1)OCCO2 | 1 / 1,\n",
       " O=c1[nH]c(=O)c2c(nc(CNCc3ccccc3)n2Cc2ccccc2)[nH]1 | 1 / 1,\n",
       " O=C(NCc1ccncc1)c1coc2c1ccc1ccccc12 | 1 / 1,\n",
       " O=c1[nH]c(=O)c2c(nc(N3CCCCC3)n2CCSc2nc3ccccc3o2)[nH]1 | 1 / 1,\n",
       " O=C1CN(Cc2ccccc2)CCN1 | 1 / 1,\n",
       " O=C(NCCN1CCCCCC1)C1CCC(CNS(=O)(=O)c2cccc3cccnc23)CC1 | 1 / 1,\n",
       " O=C(c1cnn2ccccc12)N(Cc1ccco1)C1CCCC1 | 1 / 1,\n",
       " O=C(CCC1CCCC1)c1cc2ccccc2oc1=O | 1 / 1,\n",
       " c1coc(CN2CN=C(Nc3ncc4ccccc4n3)NC2)c1 | 1 / 1,\n",
       " O=C(c1ccc(CSCc2ccccc2)o1)N1CCN(c2ccc(N3CCOCC3)nn2)CC1 | 1 / 1,\n",
       " O=C(CC1Oc2ccccc2NC1=O)NC1CC1 | 1 / 1,\n",
       " c1csc(-c2ccc3cc4c(cc3n2)OCCO4)c1 | 1 / 1,\n",
       " O=C(NC1CC2CCC(C1)N2)c1ccccc1 | 1 / 1,\n",
       " O=C1NC(c2ccco2)Nc2sc3c(c21)CCN(Cc1ccccc1)C3 | 1 / 1,\n",
       " O=C(NCCCN1CCc2ccccc2C1)C1CCN(c2nnc(-n3cccc3)s2)CC1 | 1 / 1,\n",
       " c1ccc(CCNc2ccnc3ncnn23)cc1 | 1 / 1,\n",
       " O=C(Cn1ncc2ccccc21)N1CCc2ccccc21 | 1 / 1,\n",
       " O=C(CN1CCN(c2ccccc2)CC1)c1ccc2c(c1)CCN2 | 1 / 1,\n",
       " O=C(c1ccno1)N1CCN(C(c2ccccc2)c2ccccc2)CC1 | 1 / 1,\n",
       " O=C(NC1CCCC1)C(c1ccccc1)N1CCCCC1 | 1 / 1,\n",
       " O=C(C1CCN(S(=O)(=O)c2cccc3cccnc23)CC1)N1CCn2c1nc1ccccc12 | 1 / 1,\n",
       " c1ccc(Cn2c3c(c4ccccc42)CNCC3)cc1 | 1 / 1]"
      ]
     },
     "execution_count": 19,
     "metadata": {},
     "output_type": "execute_result"
    }
   ],
   "source": [
    "[s for s in sorted_scf[:200]]"
   ]
  },
  {
   "cell_type": "code",
   "execution_count": null,
   "id": "6496b3b3-23ed-4481-97d2-de43a636faaa",
   "metadata": {},
   "outputs": [],
   "source": []
  }
 ],
 "metadata": {
  "kernelspec": {
   "display_name": "chem",
   "language": "python",
   "name": "chem"
  },
  "language_info": {
   "codemirror_mode": {
    "name": "ipython",
    "version": 3
   },
   "file_extension": ".py",
   "mimetype": "text/x-python",
   "name": "python",
   "nbconvert_exporter": "python",
   "pygments_lexer": "ipython3",
   "version": "3.8.18"
  }
 },
 "nbformat": 4,
 "nbformat_minor": 5
}
