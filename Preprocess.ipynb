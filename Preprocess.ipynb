{
 "cells": [
  {
   "cell_type": "code",
   "execution_count": 1,
   "id": "797ba421-d9ca-4987-ac74-bde12459998f",
   "metadata": {},
   "outputs": [
    {
     "name": "stdout",
     "output_type": "stream",
     "text": [
      "Loaded 97 descriptor functions\n"
     ]
    }
   ],
   "source": [
    "%load_ext autoreload\n",
    "%autoreload 2\n",
    "\n",
    "import os\n",
    "import glob\n",
    "from typing import List, Callable\n",
    "\n",
    "import re\n",
    "import pickle\n",
    "import numpy as np\n",
    "import pandas as pd\n",
    "from joblib import Parallel, delayed\n",
    "\n",
    "from utils import *"
   ]
  },
  {
   "cell_type": "code",
   "execution_count": 3,
   "id": "aa02357b-10de-4684-8acf-a4c01643da9c",
   "metadata": {},
   "outputs": [],
   "source": [
    "def preprocess_pubchem(folder: str):\n",
    "    \n",
    "    csv = os.path.join(folder, \"datatable.csv\")\n",
    "    \n",
    "    df = pd.read_csv(csv)\n",
    "    df = df[~df.PUBCHEM_EXT_DATASOURCE_SMILES.isna()]\n",
    "    \n",
    "    smiles_ls = df.PUBCHEM_EXT_DATASOURCE_SMILES.tolist()\n",
    "    mol_ls = get_mol_ls(smiles_ls)\n",
    "    fp_ls = get_fingerprint_ls(mol_ls)\n",
    "    ds_ls = get_descriptor_ls(mol_ls)\n",
    "    pains_ls = get_pains_ls(mol_ls)\n",
    "    \n",
    "    activity_ls = df.PUBCHEM_ACTIVITY_OUTCOME.map({'Inactive':0, 'Active':1}).fillna(0).astype(int).tolist()\n",
    "    scaffold_dict = get_scaffold_dict(mol_ls)\n",
    "\n",
    "    data = {\n",
    "        \"smiles_ls\": smiles_ls,\n",
    "        \"fp_ls\": fp_ls,\n",
    "        \"mol_ls\": mol_ls,\n",
    "        \"activity_ls\": activity_ls,\n",
    "        \"ds_ls\": ds_ls,\n",
    "        \"scaffold_dict\": scaffold_dict,\n",
    "        \"pains_ls\": pains_ls\n",
    "    }\n",
    "    with open(os.path.join(folder, \"data.pkl\"), \"wb\") as file:\n",
    "        pickle.dump(data, file)"
   ]
  },
  {
   "cell_type": "code",
   "execution_count": null,
   "id": "11f42431-af7f-481c-8d02-9ff4f189999b",
   "metadata": {},
   "outputs": [
    {
     "name": "stdout",
     "output_type": "stream",
     "text": [
      "596\n",
      "69668\n",
      "624255\n",
      "76537\n",
      "938\n",
      "Loaded 97 descriptor functions\n",
      "Loaded 97 descriptor functions\n",
      "Loaded 97 descriptor functions\n",
      "Loaded 97 descriptor functions\n",
      "Loaded 97 descriptor functions\n",
      "Loaded 97 descriptor functions\n",
      "Loaded 97 descriptor functions\n",
      "Loaded 97 descriptor functions\n",
      "72026\n",
      "628\n",
      "63656\n",
      "598\n",
      "85200\n",
      "995\n",
      "70898\n",
      "449739\n",
      "104728\n",
      "894\n",
      "Loaded 97 descriptor functions\n",
      "Loaded 97 descriptor functions\n",
      "Loaded 97 descriptor functions\n",
      "Loaded 97 descriptor functions\n",
      "Loaded 97 descriptor functions\n",
      "Loaded 97 descriptor functions\n",
      "Loaded 97 descriptor functions\n",
      "Loaded 97 descriptor functions\n"
     ]
    },
    {
     "name": "stderr",
     "output_type": "stream",
     "text": [
      "[18:04:28] WARNING: not removing hydrogen atom without neighbors\n"
     ]
    },
    {
     "name": "stdout",
     "output_type": "stream",
     "text": [
      "Loaded 97 descriptor functions\n",
      "Loaded 97 descriptor functions\n",
      "Loaded 97 descriptor functions\n",
      "Loaded 97 descriptor functions\n",
      "Loaded 97 descriptor functions\n",
      "Loaded 97 descriptor functions\n",
      "Loaded 97 descriptor functions\n",
      "Loaded 97 descriptor functions\n",
      "148480\n",
      "893\n"
     ]
    }
   ],
   "source": [
    "for folder in os.listdir('dataset'):\n",
    "    print(folder)\n",
    "    preprocess_pubchem(os.path.join('dataset',folder))"
   ]
  },
  {
   "cell_type": "code",
   "execution_count": null,
   "id": "4571989b-a632-45dd-a7a0-ae8b6c93865f",
   "metadata": {},
   "outputs": [],
   "source": [
    "# print # of scaffolds"
   ]
  }
 ],
 "metadata": {
  "kernelspec": {
   "display_name": "Chem",
   "language": "python",
   "name": "chem"
  },
  "language_info": {
   "codemirror_mode": {
    "name": "ipython",
    "version": 3
   },
   "file_extension": ".py",
   "mimetype": "text/x-python",
   "name": "python",
   "nbconvert_exporter": "python",
   "pygments_lexer": "ipython3",
   "version": "3.8.18"
  }
 },
 "nbformat": 4,
 "nbformat_minor": 5
}
