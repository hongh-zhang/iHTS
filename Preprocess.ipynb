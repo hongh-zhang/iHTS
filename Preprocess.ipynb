{
 "cells": [
  {
   "cell_type": "code",
   "execution_count": 1,
   "id": "797ba421-d9ca-4987-ac74-bde12459998f",
   "metadata": {},
   "outputs": [
    {
     "name": "stdout",
     "output_type": "stream",
     "text": [
      "Loaded 97 descriptor functions\n"
     ]
    }
   ],
   "source": [
    "%load_ext autoreload\n",
    "%autoreload 2\n",
    "\n",
    "import os\n",
    "import glob\n",
    "from typing import List, Callable\n",
    "\n",
    "import re\n",
    "import pickle\n",
    "import numpy as np\n",
    "import pandas as pd\n",
    "from joblib import Parallel, delayed\n",
    "\n",
    "from utils import *"
   ]
  },
  {
   "cell_type": "code",
   "execution_count": 28,
   "id": "dd3964a2-90f8-470e-ad6f-d4c84856cbe1",
   "metadata": {},
   "outputs": [],
   "source": [
    "def preprocess_pubchem(folder: str, skiprows: List[int]):\n",
    "    \n",
    "    csv = glob.glob(os.path.join(folder, \"*.csv\"))[0]\n",
    "    \n",
    "    df = pd.read_csv(csv, skiprows=skiprows, header=0, index_col=0)\n",
    "    df = df[\n",
    "        (~df.PUBCHEM_EXT_DATASOURCE_SMILES.isna())&\n",
    "        (~df.PUBCHEM_ACTIVITY_OUTCOME.isna())&\n",
    "        (~(df.PUBCHEM_ACTIVITY_OUTCOME=='Inconclusive'))\n",
    "    ]\n",
    "    \n",
    "    smiles_ls = df.PUBCHEM_EXT_DATASOURCE_SMILES.tolist()\n",
    "    mol_ls = get_mol_ls(smiles_ls)\n",
    "    fp_ls = get_fingerprint_ls(mol_ls)\n",
    "    ds_ls = get_descriptor_ls(mol_ls)\n",
    "    \n",
    "    activity_ls = df.PUBCHEM_ACTIVITY_OUTCOME\n",
    "    activity_ls = activity_ls.map({'Inactive':0, 'Active':1})\n",
    "    \n",
    "    scaffold_dict = get_scaffold_dict(mol_ls)\n",
    "\n",
    "    data = {\n",
    "        \"smiles_ls\": smiles_ls,\n",
    "        \"fp_ls\": fp_ls,\n",
    "        \"mol_ls\": mol_ls,\n",
    "        \"activity_ls\": activity_ls,\n",
    "        \"ds_ls\": ds_ls,\n",
    "        \"scaffold_dict\": scaffold_dict\n",
    "    }\n",
    "    with open(os.path.join(folder, \"data.pkl\"), \"wb\") as file:\n",
    "        pickle.dump(data, file)"
   ]
  },
  {
   "cell_type": "code",
   "execution_count": 8,
   "id": "e791bcc4-37b9-41f9-82cf-f67afd9d78ef",
   "metadata": {},
   "outputs": [
    {
     "name": "stdout",
     "output_type": "stream",
     "text": [
      "Loaded 97 descriptor functions\n",
      "Loaded 97 descriptor functions\n",
      "Loaded 97 descriptor functions\n",
      "Loaded 97 descriptor functions\n",
      "Loaded 97 descriptor functions\n",
      "Loaded 97 descriptor functions\n",
      "Loaded 97 descriptor functions\n",
      "Loaded 97 descriptor functions\n"
     ]
    }
   ],
   "source": [
    "preprocess_pubchem(\"dataset/AID_628\", skiprows=[1,2,3])"
   ]
  },
  {
   "cell_type": "code",
   "execution_count": null,
   "id": "a07d2b7e-da2e-4038-94c0-41cb6c8f0510",
   "metadata": {},
   "outputs": [
    {
     "name": "stderr",
     "output_type": "stream",
     "text": [
      "[16:03:12] WARNING: not removing hydrogen atom without neighbors\n",
      "[16:03:13] WARNING: not removing hydrogen atom without neighbors\n",
      "[16:03:27] WARNING: not removing hydrogen atom without neighbors\n",
      "[16:03:29] WARNING: not removing hydrogen atom without neighbors\n",
      "[16:03:30] WARNING: not removing hydrogen atom without neighbors\n",
      "[16:03:34] WARNING: not removing hydrogen atom without neighbors\n",
      "[16:03:37] WARNING: not removing hydrogen atom without neighbors\n",
      "[16:03:52] WARNING: not removing hydrogen atom without neighbors\n",
      "[16:04:03] WARNING: not removing hydrogen atom without neighbors\n",
      "[16:04:52] WARNING: not removing hydrogen atom without neighbors\n",
      "[16:05:00] WARNING: not removing hydrogen atom without neighbors\n",
      "[16:05:03] WARNING: not removing hydrogen atom without neighbors\n",
      "[16:05:10] WARNING: not removing hydrogen atom without neighbors\n",
      "[16:05:10] WARNING: not removing hydrogen atom without neighbors\n",
      "[16:05:13] WARNING: not removing hydrogen atom without neighbors\n",
      "[16:05:25] WARNING: not removing hydrogen atom without neighbors\n",
      "[16:05:31] WARNING: not removing hydrogen atom without neighbors\n"
     ]
    }
   ],
   "source": [
    "preprocess_pubchem(\"dataset/AID_1259374\", skiprows=[1])"
   ]
  },
  {
   "cell_type": "code",
   "execution_count": 29,
   "id": "06918027-528f-4d1e-858e-19790f419e21",
   "metadata": {},
   "outputs": [],
   "source": [
    "preprocess_pubchem(\"dataset/test/AID_1259354\", skiprows=[1,2,])"
   ]
  },
  {
   "cell_type": "code",
   "execution_count": 7,
   "id": "a5431e25-3a8d-44c1-89f2-529101b2c1de",
   "metadata": {},
   "outputs": [
    {
     "name": "stderr",
     "output_type": "stream",
     "text": [
      "[23:08:33] WARNING: not removing hydrogen atom without neighbors\n",
      "/tmp/ipykernel_153325/3133016333.py:5: DtypeWarning: Columns (4,17) have mixed types. Specify dtype option on import or set low_memory=False.\n",
      "  df = pd.read_csv(csv, skiprows=skiprows, header=0, index_col=0)\n"
     ]
    },
    {
     "name": "stdout",
     "output_type": "stream",
     "text": [
      "Loaded 97 descriptor functions\n",
      "Loaded 97 descriptor functions\n",
      "Loaded 97 descriptor functions\n",
      "Loaded 97 descriptor functions\n",
      "Loaded 97 descriptor functions\n",
      "Loaded 97 descriptor functions\n",
      "Loaded 97 descriptor functions\n",
      "Loaded 97 descriptor functions\n"
     ]
    }
   ],
   "source": [
    "preprocess_pubchem(\"dataset/test/AID_1259354\", skiprows=[1,2,])\n",
    "preprocess_pubchem(\"dataset/test/AID_488969\", skiprows=[1,2,])\n",
    "preprocess_pubchem(\"dataset/test/AID_598\", skiprows=[1,2,])"
   ]
  },
  {
   "cell_type": "code",
   "execution_count": null,
   "id": "f9bb309d-9e97-45da-a37c-490e79f84b4a",
   "metadata": {},
   "outputs": [],
   "source": [
    "df = pd.read_csv(\"dataset/test/AID_1259354/AID_1259354_datatable_all.csv\", skiprows=[1,2,3], header=0, index_col=0)\n",
    "df = df[(~df.PUBCHEM_EXT_DATASOURCE_SMILES.isna())&(~df.PUBCHEM_ACTIVITY_OUTCOME.isna())]\n",
    "print((df.PUBCHEM_ACTIVITY_OUTCOME=='Active').sum())\n",
    "print((df.PUBCHEM_ACTIVITY_OUTCOME=='Inactive').sum())\n",
    "df"
   ]
  },
  {
   "cell_type": "code",
   "execution_count": null,
   "id": "4571989b-a632-45dd-a7a0-ae8b6c93865f",
   "metadata": {},
   "outputs": [],
   "source": []
  }
 ],
 "metadata": {
  "kernelspec": {
   "display_name": "Chem",
   "language": "python",
   "name": "chem"
  },
  "language_info": {
   "codemirror_mode": {
    "name": "ipython",
    "version": 3
   },
   "file_extension": ".py",
   "mimetype": "text/x-python",
   "name": "python",
   "nbconvert_exporter": "python",
   "pygments_lexer": "ipython3",
   "version": "3.8.18"
  }
 },
 "nbformat": 4,
 "nbformat_minor": 5
}
