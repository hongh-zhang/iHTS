{
 "cells": [
  {
   "cell_type": "code",
   "execution_count": null,
   "id": "9777e36d-1890-468c-882f-200626f8e962",
   "metadata": {},
   "outputs": [],
   "source": [
    "import os, shutil, warnings\n",
    "import pandas as pd\n",
    "from urllib.request import urlretrieve\n",
    "\n",
    "AID_ls = ['596', '628', '893', '894', '938', '995', '449739', '624255', '1345083', '598', '488969', '1259354',]"
   ]
  },
  {
   "cell_type": "code",
   "execution_count": 24,
   "id": "2c817de2-9395-49f5-a9f0-a89b47b0ddcb",
   "metadata": {},
   "outputs": [],
   "source": [
    "if os.path.exists('dataset'):\n",
    "    shutil.rmtree('dataset')\n",
    "os.mkdir('dataset')\n",
    "\n",
    "AID_ls = ['596', '628', '893', '894', '938', '995', '449739', '624255', '1345083', '598', '488969', '1259354',]\n",
    "for AID in AID_ls:\n",
    "    os.mkdir(os.path.join('dataset', AID))\n",
    "    url = f\"https://pubchem.ncbi.nlm.nih.gov/assay/pcget.cgi?query=download&record_type=datatable&actvty=all&response_type=save&aid={AID}\"\n",
    "    file = os.path.join('dataset', AID, \"datatable.csv\")\n",
    "    urlretrieve(url, file)"
   ]
  },
  {
   "cell_type": "code",
   "execution_count": 25,
   "id": "f5226796-c405-4c02-a9d3-9117795a5e54",
   "metadata": {},
   "outputs": [],
   "source": [
    "warnings.simplefilter(action='ignore', category=pd.errors.DtypeWarning)\n",
    "\n",
    "for AID in AID_ls:\n",
    "    file = os.path.join('dataset', AID, \"datatable.csv\")\n",
    "    df = pd.read_csv(f\"dataset/{AID}/datatable.csv\")\n",
    "    df = df[df['PUBCHEM_CID'].notna()]\n",
    "    df = df.drop_duplicates(subset='PUBCHEM_CID', keep=\"first\")\n",
    "    df = df.loc[:,['PUBCHEM_EXT_DATASOURCE_SMILES', 'PUBCHEM_ACTIVITY_OUTCOME']].convert_dtypes()\n",
    "    df.to_csv(file, index=False)\n",
    "\n",
    "warnings.simplefilter(action='default', category=pd.errors.DtypeWarning)"
   ]
  },
  {
   "cell_type": "code",
   "execution_count": null,
   "id": "b8c57dc2-e1ac-476d-9192-fbf48d5bc7dd",
   "metadata": {},
   "outputs": [],
   "source": []
  }
 ],
 "metadata": {
  "kernelspec": {
   "display_name": "Python 3 (ipykernel)",
   "language": "python",
   "name": "python3"
  },
  "language_info": {
   "codemirror_mode": {
    "name": "ipython",
    "version": 3
   },
   "file_extension": ".py",
   "mimetype": "text/x-python",
   "name": "python",
   "nbconvert_exporter": "python",
   "pygments_lexer": "ipython3",
   "version": "3.8.18"
  }
 },
 "nbformat": 4,
 "nbformat_minor": 5
}
