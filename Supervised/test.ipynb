{
 "cells": [
  {
   "cell_type": "code",
   "execution_count": 1,
   "id": "a90555f2-b403-491a-8442-acde7f607ef2",
   "metadata": {},
   "outputs": [],
   "source": [
    "from sklearn import metrics"
   ]
  },
  {
   "cell_type": "code",
   "execution_count": 3,
   "id": "9b2242b9-1259-42e0-855e-2b1bceb8b51c",
   "metadata": {},
   "outputs": [
    {
     "data": {
      "text/plain": [
       "(array([0., 0., 1.]), array([0., 1., 1.]), array([ inf, 0.99, 0.  ]))"
      ]
     },
     "execution_count": 3,
     "metadata": {},
     "output_type": "execute_result"
    }
   ],
   "source": [
    "metrics.roc_curve([0,0,1],[0,0,0.99])"
   ]
  },
  {
   "cell_type": "code",
   "execution_count": 12,
   "id": "0c9e64dd-526d-456e-8662-b0726ff517bf",
   "metadata": {},
   "outputs": [
    {
     "data": {
      "text/plain": [
       "0.5"
      ]
     },
     "execution_count": 12,
     "metadata": {},
     "output_type": "execute_result"
    }
   ],
   "source": [
    "metrics.roc_auc_score([0,0,1],[0,0,0])"
   ]
  },
  {
   "cell_type": "code",
   "execution_count": 11,
   "id": "8348d8cf-342c-42a5-8614-10b58538f422",
   "metadata": {},
   "outputs": [
    {
     "data": {
      "text/plain": [
       "0.5"
      ]
     },
     "execution_count": 11,
     "metadata": {},
     "output_type": "execute_result"
    }
   ],
   "source": [
    "metrics.roc_auc_score([0,0,1],[0.4,0.4,0.4])"
   ]
  },
  {
   "cell_type": "code",
   "execution_count": null,
   "id": "1ceedc4c-a098-4997-8020-f2241a3b79bd",
   "metadata": {},
   "outputs": [],
   "source": []
  }
 ],
 "metadata": {
  "kernelspec": {
   "display_name": "chem",
   "language": "python",
   "name": "chem"
  },
  "language_info": {
   "codemirror_mode": {
    "name": "ipython",
    "version": 3
   },
   "file_extension": ".py",
   "mimetype": "text/x-python",
   "name": "python",
   "nbconvert_exporter": "python",
   "pygments_lexer": "ipython3",
   "version": "3.8.18"
  }
 },
 "nbformat": 4,
 "nbformat_minor": 5
}
