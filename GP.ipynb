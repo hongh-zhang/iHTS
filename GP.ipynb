{
 "cells": [
  {
   "cell_type": "code",
   "execution_count": 1,
   "id": "4d96ff94-3a90-4c6c-9f83-83e7aed6473a",
   "metadata": {},
   "outputs": [
    {
     "name": "stdout",
     "output_type": "stream",
     "text": [
      "Loaded 97 descriptor functions\n"
     ]
    }
   ],
   "source": [
    "%load_ext autoreload\n",
    "%autoreload 2\n",
    "\n",
    "import typing\n",
    "from typing import List, Iterable\n",
    "import pickle\n",
    "import numpy as np\n",
    "import pandas as pd\n",
    "\n",
    "import rdkit\n",
    "\n",
    "from utils import *\n",
    "\n",
    "import os, glob\n"
   ]
  },
  {
   "cell_type": "code",
   "execution_count": 2,
   "id": "9d5ea7bd-60cb-4c72-a1fa-721fd3319aba",
   "metadata": {},
   "outputs": [
    {
     "name": "stderr",
     "output_type": "stream",
     "text": [
      "2024-02-13 14:03:53.219487: I tensorflow/core/util/port.cc:110] oneDNN custom operations are on. You may see slightly different numerical results due to floating-point round-off errors from different computation orders. To turn them off, set the environment variable `TF_ENABLE_ONEDNN_OPTS=0`.\n",
      "2024-02-13 14:03:53.309198: I tensorflow/tsl/cuda/cudart_stub.cc:28] Could not find cuda drivers on your machine, GPU will not be used.\n",
      "2024-02-13 14:03:53.643763: I tensorflow/tsl/cuda/cudart_stub.cc:28] Could not find cuda drivers on your machine, GPU will not be used.\n",
      "2024-02-13 14:03:53.645091: I tensorflow/core/platform/cpu_feature_guard.cc:182] This TensorFlow binary is optimized to use available CPU instructions in performance-critical operations.\n",
      "To enable the following instructions: AVX2 AVX512F AVX512_VNNI FMA, in other operations, rebuild TensorFlow with the appropriate compiler flags.\n",
      "2024-02-13 14:03:57.433343: W tensorflow/compiler/tf2tensorrt/utils/py_utils.cc:38] TF-TRT Warning: Could not find TensorRT\n"
     ]
    }
   ],
   "source": [
    "import gpflow\n",
    "from gpflow.mean_functions import Constant\n",
    "from gpflow.utilities import positive, print_summary\n",
    "from gpflow.utilities.ops import broadcasting_elementwise\n",
    "from matplotlib import pyplot as plt\n",
    "import numpy as np\n",
    "import pandas as pd\n",
    "from rdkit.Chem import AllChem, Descriptors, MolFromSmiles\n",
    "from sklearn.model_selection import train_test_split\n",
    "from sklearn.metrics import r2_score, mean_squared_error, mean_absolute_error\n",
    "from sklearn.preprocessing import StandardScaler\n",
    "import tensorflow as tf"
   ]
  },
  {
   "cell_type": "code",
   "execution_count": 28,
   "id": "3a2e4e79-4c55-46c0-9802-9e9ea66fdd1c",
   "metadata": {},
   "outputs": [],
   "source": [
    "with open(\"dataset/596/data.pkl\", 'rb') as file:\n",
    "    data = pickle.load(file)\n",
    "\n",
    "X = np.array(data['fp_ls'])\n",
    "y = np.array(data['activity_ls'])"
   ]
  },
  {
   "cell_type": "code",
   "execution_count": 29,
   "id": "36a20126-0f2d-4583-910d-6be5dc58a5a9",
   "metadata": {},
   "outputs": [],
   "source": [
    "X = X[:10000]\n",
    "y = y[:10000]\n",
    "X = X.astype(float)\n",
    "y = y.reshape(-1,1).astype(float)"
   ]
  },
  {
   "cell_type": "code",
   "execution_count": 30,
   "id": "933b7bfe-3980-4e34-bfd0-84fdedf27d55",
   "metadata": {},
   "outputs": [
    {
     "name": "stderr",
     "output_type": "stream",
     "text": [
      "/home/hz454/.conda/envs/chem/lib/python3.8/site-packages/sklearn/utils/validation.py:1183: DataConversionWarning: A column-vector y was passed when a 1d array was expected. Please change the shape of y to (n_samples, ), for example using ravel().\n",
      "  y = column_or_1d(y, warn=True)\n"
     ]
    },
    {
     "name": "stdout",
     "output_type": "stream",
     "text": [
      "CPU times: user 30min 50s, sys: 2min 24s, total: 33min 14s\n",
      "Wall time: 33min 16s\n"
     ]
    },
    {
     "data": {
      "text/plain": [
       "array([[0.86090598, 0.13909402],\n",
       "       [0.86090596, 0.13909404]])"
      ]
     },
     "execution_count": 30,
     "metadata": {},
     "output_type": "execute_result"
    }
   ],
   "source": [
    "%%time\n",
    "\n",
    "from sklearn.gaussian_process import GaussianProcessClassifier\n",
    "from sklearn.gaussian_process.kernels import RBF\n",
    "\n",
    "kernel = 1.0 * RBF(1.0)\n",
    "\n",
    "gp = GaussianProcessClassifier(kernel=kernel,random_state=0)\n",
    "gp.fit(X, y)\n",
    "\n",
    "gp.score(X, y)\n",
    "gp.predict_proba(X[:2,:])"
   ]
  },
  {
   "cell_type": "code",
   "execution_count": 31,
   "id": "cd1a1255-5552-456e-99f0-34802f306a7e",
   "metadata": {},
   "outputs": [
    {
     "data": {
      "text/plain": [
       "<matplotlib.collections.PathCollection at 0x2b334b4aedf0>"
      ]
     },
     "execution_count": 31,
     "metadata": {},
     "output_type": "execute_result"
    },
    {
     "data": {
      "image/png": "[encoded data removed]",
      "text/plain": [
       "<Figure size 640x480 with 1 Axes>"
      ]
     },
     "metadata": {},
     "output_type": "display_data"
    }
   ],
   "source": [
    "plt.scatter(gp.predict_proba(X[:,:])[:,0], y)"
   ]
  },
  {
   "cell_type": "code",
   "execution_count": 15,
   "id": "0ed6adb2-060b-489c-8967-eea6e168a105",
   "metadata": {},
   "outputs": [],
   "source": [
    "class Tanimoto(gpflow.kernels.Kernel):\n",
    "    def __init__(self):\n",
    "        super().__init__()\n",
    "        # We constrain the value of the kernel variance to be positive when it's being optimised\n",
    "        self.variance = gpflow.Parameter(1.0, transform=positive())\n",
    "\n",
    "    def K(self, X, X2=None):\n",
    "        \"\"\"\n",
    "        Compute the Tanimoto kernel matrix σ² * ((<x, y>) / (||x||^2 + ||y||^2 - <x, y>))\n",
    "        :param X: N x D array\n",
    "        :param X2: M x D array. If None, compute the N x N kernel matrix for X.\n",
    "        :return: The kernel matrix of dimension N x M\n",
    "        \"\"\"\n",
    "        if X2 is None:\n",
    "            X2 = X\n",
    "\n",
    "        Xs = tf.reduce_sum(tf.square(X), axis=-1)  # Squared L2-norm of X\n",
    "        X2s = tf.reduce_sum(tf.square(X2), axis=-1)  # Squared L2-norm of X2\n",
    "        outer_product = tf.tensordot(X, X2, [[-1], [-1]])  # outer product of the matrices X and X2\n",
    "\n",
    "        # Analogue of denominator in Tanimoto formula\n",
    "\n",
    "        denominator = -outer_product + broadcasting_elementwise(tf.add, Xs, X2s)\n",
    "\n",
    "        return self.variance * outer_product/denominator\n",
    "\n",
    "    def K_diag(self, X):\n",
    "        \"\"\"\n",
    "        Compute the diagonal of the N x N kernel matrix of X\n",
    "        :param X: N x D array\n",
    "        :return: N x 1 array\n",
    "        \"\"\"\n",
    "        return tf.fill(tf.shape(X)[:-1], tf.squeeze(self.variance))"
   ]
  },
  {
   "cell_type": "code",
   "execution_count": null,
   "id": "e66dc64d-794e-469b-8788-2e95bd39e1c6",
   "metadata": {},
   "outputs": [],
   "source": [
    "%%time\n",
    "\n",
    "m = gpflow.models.VGP(\n",
    "    (X, y),\n",
    "    likelihood=gpflow.likelihoods.Bernoulli(),\n",
    "    kernel=Tanimoto(),\n",
    ")\n",
    "\n",
    "opt = gpflow.optimizers.Scipy()\n",
    "opt.minimize(m.training_loss, variables=m.trainable_variables)"
   ]
  },
  {
   "cell_type": "code",
   "execution_count": 27,
   "id": "18fb881a-71a5-47bd-b16f-b8f0e0cb1944",
   "metadata": {},
   "outputs": [
    {
     "data": {
      "text/plain": [
       "<matplotlib.collections.PathCollection at 0x2b33500946d0>"
      ]
     },
     "execution_count": 27,
     "metadata": {},
     "output_type": "execute_result"
    },
    {
     "data": {
      "image/png": "[encoded data removed]",
      "text/plain": [
       "<Figure size 640x480 with 1 Axes>"
      ]
     },
     "metadata": {},
     "output_type": "display_data"
    }
   ],
   "source": [
    "plt.scatter(m.predict_f(X)[0], y)"
   ]
  },
  {
   "cell_type": "code",
   "execution_count": null,
   "id": "abea1c6e-50bd-48d4-8430-0579758ff7ab",
   "metadata": {},
   "outputs": [],
   "source": []
  }
 ],
 "metadata": {
  "kernelspec": {
   "display_name": "Python 3 (ipykernel)",
   "language": "python",
   "name": "python3"
  },
  "language_info": {
   "codemirror_mode": {
    "name": "ipython",
    "version": 3
   },
   "file_extension": ".py",
   "mimetype": "text/x-python",
   "name": "python",
   "nbconvert_exporter": "python",
   "pygments_lexer": "ipython3",
   "version": "3.8.18"
  }
 },
 "nbformat": 4,
 "nbformat_minor": 5
}
